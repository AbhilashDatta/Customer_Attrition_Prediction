{
  "nbformat": 4,
  "nbformat_minor": 0,
  "metadata": {
    "colab": {
      "name": "Customer_Attrition_Prediction",
      "provenance": [],
      "mount_file_id": "1UsVCTiPoE6cLu29HWeXONMBQl6LacYkA",
      "authorship_tag": "ABX9TyMlfgBbcEVQamnsqttwK+30",
      "include_colab_link": true
    },
    "kernelspec": {
      "name": "python3",
      "display_name": "Python 3"
    },
    "language_info": {
      "name": "python"
    }
  },
  "cells": [
    {
      "cell_type": "markdown",
      "metadata": {
        "id": "view-in-github",
        "colab_type": "text"
      },
      "source": [
        "<a href=\"https://colab.research.google.com/github/AbhilashDatta/Customer_Attrition_Prediction/blob/main/Customer_Attrition_Prediction.ipynb\" target=\"_parent\"><img src=\"https://colab.research.google.com/assets/colab-badge.svg\" alt=\"Open In Colab\"/></a>"
      ]
    },
    {
      "cell_type": "code",
      "metadata": {
        "colab": {
          "base_uri": "https://localhost:8080/"
        },
        "id": "k67MLJNxHHvS",
        "outputId": "1eb39860-76bb-4694-dd98-e3caf9b0cc06"
      },
      "source": [
        "!git clone https://github.com/AbhilashDatta/Customer_Attrition_Prediction.git\n",
        "%cd Customer_Attrition_Prediction/"
      ],
      "execution_count": 130,
      "outputs": [
        {
          "output_type": "stream",
          "text": [
            "Cloning into 'Customer_Attrition_Prediction'...\n",
            "remote: Enumerating objects: 10, done.\u001b[K\n",
            "remote: Counting objects: 100% (10/10), done.\u001b[K\n",
            "remote: Compressing objects: 100% (8/8), done.\u001b[K\n",
            "remote: Total 10 (delta 1), reused 0 (delta 0), pack-reused 0\u001b[K\n",
            "Unpacking objects: 100% (10/10), done.\n",
            "/content/Customer_Attrition_Prediction/Customer_Attrition_Prediction/Customer_Attrition_Prediction/Customer_Attrition_Prediction\n"
          ],
          "name": "stdout"
        }
      ]
    },
    {
      "cell_type": "code",
      "metadata": {
        "id": "lDnFzsv81viD"
      },
      "source": [
        "import pandas as pd\n",
        "import numpy as np"
      ],
      "execution_count": 131,
      "outputs": []
    },
    {
      "cell_type": "code",
      "metadata": {
        "id": "huTDDE_BALNY"
      },
      "source": [
        "train_df = pd.read_csv('train.csv', sep=',') \n",
        "test_x = pd.read_csv('test.csv', sep=',') "
      ],
      "execution_count": 132,
      "outputs": []
    },
    {
      "cell_type": "code",
      "metadata": {
        "colab": {
          "base_uri": "https://localhost:8080/"
        },
        "id": "ZRrsQewJF9T-",
        "outputId": "49d62a3f-0463-46f0-b2ab-4af297b9bf86"
      },
      "source": [
        "print(train_df.head())\n",
        "print(test_x.head())"
      ],
      "execution_count": 133,
      "outputs": [
        {
          "output_type": "stream",
          "text": [
            "                     ID     sex  ... GrandPayment CustomerAttrition\n",
            "0  B60LHTZLLPFU4IULNPUF  Female  ...  4628.129119               Yes\n",
            "1  1RUJ7ONYZHYTWKOKO1SD    Male  ...   922.085998                No\n",
            "2  DZ9EEOQWSN0MYCBUPAM5    Male  ...  6205.891129               Yes\n",
            "3  YZ43L1UQUQACTL1PXXZG    Male  ...  1248.655391                No\n",
            "4  6P28152QGF60PDLSCB9M  Female  ...  1285.321277                No\n",
            "\n",
            "[5 rows x 16 columns]\n",
            "                     ID     sex  ... QuarterlyPayment GrandPayment\n",
            "0  WMORTPCG3HTIPEFSGUFY    Male  ...        21.299937   151.092519\n",
            "1  GBLPEA16C3KGBO57KEFO  Female  ...        56.609623  1553.276979\n",
            "2  IDCQS0CO5P29AMKY3LO1    Male  ...        25.167690  1684.262416\n",
            "3  1IY29SDITYU6IFZ4KJB0  Female  ...        55.560968  1829.874462\n",
            "4  T5XMW5B0YPCONH30WJD2  Female  ...        20.070002   489.818170\n",
            "\n",
            "[5 rows x 15 columns]\n"
          ],
          "name": "stdout"
        }
      ]
    },
    {
      "cell_type": "code",
      "metadata": {
        "colab": {
          "base_uri": "https://localhost:8080/"
        },
        "id": "gjQTJPUoJKDn",
        "outputId": "25a370d4-d16f-4313-a63e-14328954da42"
      },
      "source": [
        "train_df.info()\n",
        "test_x.info()"
      ],
      "execution_count": 134,
      "outputs": [
        {
          "output_type": "stream",
          "text": [
            "<class 'pandas.core.frame.DataFrame'>\n",
            "RangeIndex: 6338 entries, 0 to 6337\n",
            "Data columns (total 16 columns):\n",
            " #   Column               Non-Null Count  Dtype  \n",
            "---  ------               --------------  -----  \n",
            " 0   ID                   6338 non-null   object \n",
            " 1   sex                  6338 non-null   object \n",
            " 2   Aged                 6338 non-null   object \n",
            " 3   Married              6338 non-null   object \n",
            " 4   TotalDependents      6338 non-null   object \n",
            " 5   ServiceSpan          6338 non-null   int64  \n",
            " 6   MobileService        6338 non-null   object \n",
            " 7   4GService            6338 non-null   object \n",
            " 8   CyberProtection      6338 non-null   object \n",
            " 9   HardwareSupport      6338 non-null   object \n",
            " 10  TechnicalAssistance  6338 non-null   object \n",
            " 11  FilmSubscription     6338 non-null   object \n",
            " 12  SettlementProcess    6338 non-null   object \n",
            " 13  QuarterlyPayment     6338 non-null   float64\n",
            " 14  GrandPayment         6328 non-null   float64\n",
            " 15  CustomerAttrition    6338 non-null   object \n",
            "dtypes: float64(2), int64(1), object(13)\n",
            "memory usage: 792.4+ KB\n",
            "<class 'pandas.core.frame.DataFrame'>\n",
            "RangeIndex: 705 entries, 0 to 704\n",
            "Data columns (total 15 columns):\n",
            " #   Column               Non-Null Count  Dtype  \n",
            "---  ------               --------------  -----  \n",
            " 0   ID                   705 non-null    object \n",
            " 1   sex                  705 non-null    object \n",
            " 2   Aged                 705 non-null    object \n",
            " 3   Married              705 non-null    object \n",
            " 4   TotalDependents      705 non-null    object \n",
            " 5   ServiceSpan          705 non-null    int64  \n",
            " 6   MobileService        705 non-null    object \n",
            " 7   4GService            705 non-null    object \n",
            " 8   CyberProtection      705 non-null    object \n",
            " 9   HardwareSupport      705 non-null    object \n",
            " 10  TechnicalAssistance  705 non-null    object \n",
            " 11  FilmSubscription     705 non-null    object \n",
            " 12  SettlementProcess    705 non-null    object \n",
            " 13  QuarterlyPayment     705 non-null    float64\n",
            " 14  GrandPayment         704 non-null    float64\n",
            "dtypes: float64(2), int64(1), object(12)\n",
            "memory usage: 82.7+ KB\n"
          ],
          "name": "stdout"
        }
      ]
    },
    {
      "cell_type": "code",
      "metadata": {
        "colab": {
          "base_uri": "https://localhost:8080/"
        },
        "id": "Xy1dL7oQJUif",
        "outputId": "3c9b2493-f2e6-4282-d7a6-993b2d5e85b5"
      },
      "source": [
        "#Exploring categorical data\n",
        "cat_col = []\n",
        "for col_name in train_df.columns:\n",
        "    if train_df[col_name].dtypes == 'object' and col_name!='ID' :\n",
        "        cat_col.append(col_name)\n",
        "        unique_cat = len(train_df[col_name].unique())\n",
        "        print(f\"feature '{col_name}' has {unique_cat} unique categories\")"
      ],
      "execution_count": 135,
      "outputs": [
        {
          "output_type": "stream",
          "text": [
            "feature 'sex' has 2 unique categories\n",
            "feature 'Aged' has 2 unique categories\n",
            "feature 'Married' has 2 unique categories\n",
            "feature 'TotalDependents' has 2 unique categories\n",
            "feature 'MobileService' has 2 unique categories\n",
            "feature '4GService' has 3 unique categories\n",
            "feature 'CyberProtection' has 2 unique categories\n",
            "feature 'HardwareSupport' has 2 unique categories\n",
            "feature 'TechnicalAssistance' has 2 unique categories\n",
            "feature 'FilmSubscription' has 2 unique categories\n",
            "feature 'SettlementProcess' has 4 unique categories\n",
            "feature 'CustomerAttrition' has 2 unique categories\n"
          ],
          "name": "stdout"
        }
      ]
    },
    {
      "cell_type": "code",
      "metadata": {
        "id": "Pk7BkTZYk-aI"
      },
      "source": [
        "from sklearn.preprocessing import OneHotEncoder, LabelEncoder\n",
        "le = LabelEncoder()\n",
        "\n",
        "train_df.drop(columns='ID',inplace=True)\n",
        "test_x.drop(columns='ID',inplace=True)\n",
        "\n",
        "for col in cat_col:\n",
        "  train_df[col] = le.fit_transform(train_df[col])  \n",
        "  if col!='CustomerAttrition':\n",
        "    test_x[col] = le.fit_transform(test_x[col])"
      ],
      "execution_count": 136,
      "outputs": []
    },
    {
      "cell_type": "code",
      "metadata": {
        "colab": {
          "base_uri": "https://localhost:8080/"
        },
        "id": "QCMqHChEU9nn",
        "outputId": "a4a6453e-0055-41ce-8fe3-a27f591e5f2e"
      },
      "source": [
        "train_df.info()\n",
        "test_x.info()"
      ],
      "execution_count": 137,
      "outputs": [
        {
          "output_type": "stream",
          "text": [
            "<class 'pandas.core.frame.DataFrame'>\n",
            "RangeIndex: 6338 entries, 0 to 6337\n",
            "Data columns (total 15 columns):\n",
            " #   Column               Non-Null Count  Dtype  \n",
            "---  ------               --------------  -----  \n",
            " 0   sex                  6338 non-null   int64  \n",
            " 1   Aged                 6338 non-null   int64  \n",
            " 2   Married              6338 non-null   int64  \n",
            " 3   TotalDependents      6338 non-null   int64  \n",
            " 4   ServiceSpan          6338 non-null   int64  \n",
            " 5   MobileService        6338 non-null   int64  \n",
            " 6   4GService            6338 non-null   int64  \n",
            " 7   CyberProtection      6338 non-null   int64  \n",
            " 8   HardwareSupport      6338 non-null   int64  \n",
            " 9   TechnicalAssistance  6338 non-null   int64  \n",
            " 10  FilmSubscription     6338 non-null   int64  \n",
            " 11  SettlementProcess    6338 non-null   int64  \n",
            " 12  QuarterlyPayment     6338 non-null   float64\n",
            " 13  GrandPayment         6328 non-null   float64\n",
            " 14  CustomerAttrition    6338 non-null   int64  \n",
            "dtypes: float64(2), int64(13)\n",
            "memory usage: 742.9 KB\n",
            "<class 'pandas.core.frame.DataFrame'>\n",
            "RangeIndex: 705 entries, 0 to 704\n",
            "Data columns (total 14 columns):\n",
            " #   Column               Non-Null Count  Dtype  \n",
            "---  ------               --------------  -----  \n",
            " 0   sex                  705 non-null    int64  \n",
            " 1   Aged                 705 non-null    int64  \n",
            " 2   Married              705 non-null    int64  \n",
            " 3   TotalDependents      705 non-null    int64  \n",
            " 4   ServiceSpan          705 non-null    int64  \n",
            " 5   MobileService        705 non-null    int64  \n",
            " 6   4GService            705 non-null    int64  \n",
            " 7   CyberProtection      705 non-null    int64  \n",
            " 8   HardwareSupport      705 non-null    int64  \n",
            " 9   TechnicalAssistance  705 non-null    int64  \n",
            " 10  FilmSubscription     705 non-null    int64  \n",
            " 11  SettlementProcess    705 non-null    int64  \n",
            " 12  QuarterlyPayment     705 non-null    float64\n",
            " 13  GrandPayment         704 non-null    float64\n",
            "dtypes: float64(2), int64(12)\n",
            "memory usage: 77.2 KB\n"
          ],
          "name": "stdout"
        }
      ]
    },
    {
      "cell_type": "code",
      "metadata": {
        "colab": {
          "base_uri": "https://localhost:8080/"
        },
        "id": "uOn7lF405-n6",
        "outputId": "9645cd35-2791-47a8-bb2b-3cc51698d171"
      },
      "source": [
        "# Handling NULL\n",
        "\n",
        "train_df['GrandPayment'] = train_df['GrandPayment'].fillna(value = np.mean(train_df['GrandPayment']))\n",
        "\n",
        "test_x['GrandPayment'] = test_x['GrandPayment'].fillna(value = np.mean(test_x['GrandPayment']))\n",
        "\n",
        "train_df.info()\n",
        "test_x.info()"
      ],
      "execution_count": 138,
      "outputs": [
        {
          "output_type": "stream",
          "text": [
            "<class 'pandas.core.frame.DataFrame'>\n",
            "RangeIndex: 6338 entries, 0 to 6337\n",
            "Data columns (total 15 columns):\n",
            " #   Column               Non-Null Count  Dtype  \n",
            "---  ------               --------------  -----  \n",
            " 0   sex                  6338 non-null   int64  \n",
            " 1   Aged                 6338 non-null   int64  \n",
            " 2   Married              6338 non-null   int64  \n",
            " 3   TotalDependents      6338 non-null   int64  \n",
            " 4   ServiceSpan          6338 non-null   int64  \n",
            " 5   MobileService        6338 non-null   int64  \n",
            " 6   4GService            6338 non-null   int64  \n",
            " 7   CyberProtection      6338 non-null   int64  \n",
            " 8   HardwareSupport      6338 non-null   int64  \n",
            " 9   TechnicalAssistance  6338 non-null   int64  \n",
            " 10  FilmSubscription     6338 non-null   int64  \n",
            " 11  SettlementProcess    6338 non-null   int64  \n",
            " 12  QuarterlyPayment     6338 non-null   float64\n",
            " 13  GrandPayment         6338 non-null   float64\n",
            " 14  CustomerAttrition    6338 non-null   int64  \n",
            "dtypes: float64(2), int64(13)\n",
            "memory usage: 742.9 KB\n",
            "<class 'pandas.core.frame.DataFrame'>\n",
            "RangeIndex: 705 entries, 0 to 704\n",
            "Data columns (total 14 columns):\n",
            " #   Column               Non-Null Count  Dtype  \n",
            "---  ------               --------------  -----  \n",
            " 0   sex                  705 non-null    int64  \n",
            " 1   Aged                 705 non-null    int64  \n",
            " 2   Married              705 non-null    int64  \n",
            " 3   TotalDependents      705 non-null    int64  \n",
            " 4   ServiceSpan          705 non-null    int64  \n",
            " 5   MobileService        705 non-null    int64  \n",
            " 6   4GService            705 non-null    int64  \n",
            " 7   CyberProtection      705 non-null    int64  \n",
            " 8   HardwareSupport      705 non-null    int64  \n",
            " 9   TechnicalAssistance  705 non-null    int64  \n",
            " 10  FilmSubscription     705 non-null    int64  \n",
            " 11  SettlementProcess    705 non-null    int64  \n",
            " 12  QuarterlyPayment     705 non-null    float64\n",
            " 13  GrandPayment         705 non-null    float64\n",
            "dtypes: float64(2), int64(12)\n",
            "memory usage: 77.2 KB\n"
          ],
          "name": "stdout"
        }
      ]
    },
    {
      "cell_type": "code",
      "metadata": {
        "id": "J9RP4SZDKX_u"
      },
      "source": [
        "y = pd.get_dummies(train_x['4GService'])\n",
        "z = pd.get_dummies(train_x['SettlementProcess'])\n",
        "\n",
        "train_x['4G0'] = y[0]\n",
        "#train_x['4G1'] = y[1]\n",
        "train_x['4G2'] = y[2]\n",
        "\n",
        "train_x['Set0'] = z[0]\n",
        "train_x['Set1'] = z[1]\n",
        "train_x['Set2'] = z[2]\n",
        "train_x['Set3'] = z[3]\n",
        "\n",
        "train_x.drop(columns=['4GService','SettlementProcess'],inplace=True)"
      ],
      "execution_count": 139,
      "outputs": []
    },
    {
      "cell_type": "code",
      "metadata": {
        "id": "CiAWO0hcxTb3"
      },
      "source": [
        "y = pd.get_dummies(test_x['4GService'])\n",
        "z = pd.get_dummies(test_x['SettlementProcess'])\n",
        "\n",
        "test_x['4G0'] = y[0]\n",
        "#test_x['4G1'] = y[1]\n",
        "test_x['4G2'] = y[2]\n",
        "\n",
        "test_x['Set0'] = z[0]\n",
        "test_x['Set1'] = z[1]\n",
        "test_x['Set2'] = z[2]\n",
        "test_x['Set3'] = z[3]\n",
        "\n",
        "test_x.drop(columns=['4GService','SettlementProcess'],inplace=True)"
      ],
      "execution_count": 140,
      "outputs": []
    },
    {
      "cell_type": "code",
      "metadata": {
        "id": "mSj4aI9cbf1P"
      },
      "source": [
        "#dropping due to high magnitude of correlation\n",
        "\n",
        "train_df.drop(columns=['ServiceSpan'],inplace = True)\n",
        "test_x.drop(columns=['ServiceSpan'],inplace = True)\n"
      ],
      "execution_count": 141,
      "outputs": []
    },
    {
      "cell_type": "code",
      "metadata": {
        "colab": {
          "base_uri": "https://localhost:8080/",
          "height": 376
        },
        "id": "FDEFl-3b5icI",
        "outputId": "5139a443-3385-4068-c13f-94dc450d4603"
      },
      "source": [
        "import seaborn as sns\n",
        "sns.heatmap(train_df.corr())"
      ],
      "execution_count": 142,
      "outputs": [
        {
          "output_type": "execute_result",
          "data": {
            "text/plain": [
              "<matplotlib.axes._subplots.AxesSubplot at 0x7f78bd08e490>"
            ]
          },
          "metadata": {
            "tags": []
          },
          "execution_count": 142
        },
        {
          "output_type": "display_data",
          "data": {
            "image/png": "[encoded data removed]",
            "text/plain": [
              "<Figure size 432x288 with 2 Axes>"
            ]
          },
          "metadata": {
            "tags": [],
            "needs_background": "light"
          }
        }
      ]
    },
    {
      "cell_type": "code",
      "metadata": {
        "id": "jy_mXuFl-Aom"
      },
      "source": [
        "train_x = train_df.drop(columns='CustomerAttrition')\n",
        "train_y = train_df['CustomerAttrition']"
      ],
      "execution_count": 143,
      "outputs": []
    },
    {
      "cell_type": "code",
      "metadata": {
        "colab": {
          "base_uri": "https://localhost:8080/"
        },
        "id": "j8itVfWkcJW-",
        "outputId": "eaf130e4-943b-4c1c-a213-32f93043da3a"
      },
      "source": [
        "train_x.shape"
      ],
      "execution_count": 144,
      "outputs": [
        {
          "output_type": "execute_result",
          "data": {
            "text/plain": [
              "(6338, 13)"
            ]
          },
          "metadata": {
            "tags": []
          },
          "execution_count": 144
        }
      ]
    },
    {
      "cell_type": "code",
      "metadata": {
        "colab": {
          "base_uri": "https://localhost:8080/"
        },
        "id": "Jd_turTt3NfS",
        "outputId": "1d603e02-59f0-4518-8e7d-4a551ea5a32b"
      },
      "source": [
        "!pip install imblearn\n",
        "from imblearn.over_sampling import SMOTE\n",
        "\n",
        "oversample = SMOTE()\n",
        "train_x, train_y = oversample.fit_resample(train_x, train_y)"
      ],
      "execution_count": 145,
      "outputs": [
        {
          "output_type": "stream",
          "text": [
            "Requirement already satisfied: imblearn in /usr/local/lib/python3.7/dist-packages (0.0)\n",
            "Requirement already satisfied: imbalanced-learn in /usr/local/lib/python3.7/dist-packages (from imblearn) (0.4.3)\n",
            "Requirement already satisfied: scikit-learn>=0.20 in /usr/local/lib/python3.7/dist-packages (from imbalanced-learn->imblearn) (0.22.2.post1)\n",
            "Requirement already satisfied: numpy>=1.8.2 in /usr/local/lib/python3.7/dist-packages (from imbalanced-learn->imblearn) (1.19.5)\n",
            "Requirement already satisfied: scipy>=0.13.3 in /usr/local/lib/python3.7/dist-packages (from imbalanced-learn->imblearn) (1.4.1)\n",
            "Requirement already satisfied: joblib>=0.11 in /usr/local/lib/python3.7/dist-packages (from scikit-learn>=0.20->imbalanced-learn->imblearn) (1.0.1)\n"
          ],
          "name": "stdout"
        },
        {
          "output_type": "stream",
          "text": [
            "/usr/local/lib/python3.7/dist-packages/sklearn/utils/deprecation.py:87: FutureWarning: Function safe_indexing is deprecated; safe_indexing is deprecated in version 0.22 and will be removed in version 0.24.\n",
            "  warnings.warn(msg, category=FutureWarning)\n"
          ],
          "name": "stderr"
        }
      ]
    },
    {
      "cell_type": "code",
      "metadata": {
        "colab": {
          "base_uri": "https://localhost:8080/",
          "height": 281
        },
        "id": "TFR_pzpYRTR-",
        "outputId": "8e4d4064-f1c7-466c-b422-71dce91d7e06"
      },
      "source": [
        "import matplotlib.pyplot as plt\n",
        "\n",
        "pd.DataFrame(train_x).hist()\n",
        "plt.show()"
      ],
      "execution_count": 146,
      "outputs": [
        {
          "output_type": "display_data",
          "data": {
            "image/png": "[encoded data removed]",
            "text/plain": [
              "<Figure size 432x288 with 16 Axes>"
            ]
          },
          "metadata": {
            "tags": [],
            "needs_background": "light"
          }
        }
      ]
    },
    {
      "cell_type": "code",
      "metadata": {
        "id": "l92BFyqy2jSC"
      },
      "source": [
        "# #Standardization\n",
        "# from sklearn.preprocessing import StandardScaler\n",
        "\n",
        "# sc = StandardScaler()\n",
        "\n",
        "# train_x = sc.fit_transform(train_x)\n",
        "# test_x = sc.fit_transform(test_x)"
      ],
      "execution_count": 147,
      "outputs": []
    },
    {
      "cell_type": "code",
      "metadata": {
        "colab": {
          "base_uri": "https://localhost:8080/"
        },
        "id": "i0ZgmBfsQNEN",
        "outputId": "76656b64-d012-4823-c6bd-694c8654f39e"
      },
      "source": [
        "train_x.shape"
      ],
      "execution_count": 148,
      "outputs": [
        {
          "output_type": "execute_result",
          "data": {
            "text/plain": [
              "(9316, 13)"
            ]
          },
          "metadata": {
            "tags": []
          },
          "execution_count": 148
        }
      ]
    },
    {
      "cell_type": "code",
      "metadata": {
        "id": "ToxTDEX_6ezf"
      },
      "source": [
        "from sklearn.model_selection import train_test_split\n",
        "\n",
        "x_train,x_valid, y_train, y_valid = train_test_split(train_x, train_y, test_size=0.2, random_state=False, stratify = train_y)\n"
      ],
      "execution_count": 149,
      "outputs": []
    },
    {
      "cell_type": "code",
      "metadata": {
        "colab": {
          "base_uri": "https://localhost:8080/"
        },
        "id": "gP7IlkED6ptv",
        "outputId": "c85aa978-7695-4a55-a199-7f70b60cec8f"
      },
      "source": [
        "from sklearn.ensemble import RandomForestClassifier\n",
        "import numpy as np\n",
        "from sklearn.metrics import classification_report\n",
        "from sklearn.metrics import accuracy_score\n",
        "\n",
        "rfc = RandomForestClassifier(n_estimators=600,random_state=0)\n",
        "rfc.fit(x_train,y_train)\n",
        "\n",
        "rfc_pred = rfc.predict(x_valid)\n",
        "print(classification_report(y_valid,rfc_pred))\n",
        "print(\"Random Forest Accuracy: \",accuracy_score(y_valid, rfc_pred, normalize=True, sample_weight=None))\n"
      ],
      "execution_count": 150,
      "outputs": [
        {
          "output_type": "stream",
          "text": [
            "              precision    recall  f1-score   support\n",
            "\n",
            "           0       0.84      0.89      0.87       932\n",
            "           1       0.88      0.83      0.86       932\n",
            "\n",
            "    accuracy                           0.86      1864\n",
            "   macro avg       0.86      0.86      0.86      1864\n",
            "weighted avg       0.86      0.86      0.86      1864\n",
            "\n",
            "Random Forest Accuracy:  0.8615879828326181\n"
          ],
          "name": "stdout"
        }
      ]
    },
    {
      "cell_type": "code",
      "metadata": {
        "colab": {
          "base_uri": "https://localhost:8080/"
        },
        "id": "TG1u3dYdXFP1",
        "outputId": "1fbf2654-7244-4ae1-a749-15f17005fb8e"
      },
      "source": [
        "from sklearn.ensemble import AdaBoostClassifier\n",
        "import numpy as np\n",
        "from sklearn.metrics import classification_report\n",
        "from sklearn.metrics import accuracy_score\n",
        "\n",
        "ada = AdaBoostClassifier(n_estimators=500)\n",
        "ada.fit(x_train,y_train)\n",
        "ada_pred = ada.predict(x_valid)\n",
        "\n",
        "print(classification_report(y_valid,ada_pred))\n",
        "print(\"AdaBoostClassifier Accuracy: \",accuracy_score(y_valid, ada_pred, normalize=True, sample_weight=None))\n"
      ],
      "execution_count": 151,
      "outputs": [
        {
          "output_type": "stream",
          "text": [
            "              precision    recall  f1-score   support\n",
            "\n",
            "           0       0.84      0.89      0.86       932\n",
            "           1       0.88      0.83      0.85       932\n",
            "\n",
            "    accuracy                           0.86      1864\n",
            "   macro avg       0.86      0.86      0.86      1864\n",
            "weighted avg       0.86      0.86      0.86      1864\n",
            "\n",
            "AdaBoostClassifier Accuracy:  0.8589055793991416\n"
          ],
          "name": "stdout"
        }
      ]
    },
    {
      "cell_type": "code",
      "metadata": {
        "colab": {
          "base_uri": "https://localhost:8080/"
        },
        "id": "TezwmJ2kXikR",
        "outputId": "2c0dcbd3-98e9-4051-f4e8-5267ff2339ae"
      },
      "source": [
        "from sklearn.ensemble import GradientBoostingClassifier\n",
        "import numpy as np\n",
        "from sklearn.metrics import classification_report\n",
        "from sklearn.metrics import accuracy_score\n",
        "\n",
        "gb = GradientBoostingClassifier(n_estimators=350)\n",
        "gb.fit(x_train,y_train)\n",
        "gb_pred = gb.predict(x_valid)\n",
        "\n",
        "print(classification_report(y_valid,gb_pred))\n",
        "print(\"GradientBoostingClassifier Accuracy: \",accuracy_score(y_valid, gb_pred, normalize=True, sample_weight=None))\n"
      ],
      "execution_count": 152,
      "outputs": [
        {
          "output_type": "stream",
          "text": [
            "              precision    recall  f1-score   support\n",
            "\n",
            "           0       0.84      0.88      0.86       932\n",
            "           1       0.87      0.84      0.86       932\n",
            "\n",
            "    accuracy                           0.86      1864\n",
            "   macro avg       0.86      0.86      0.86      1864\n",
            "weighted avg       0.86      0.86      0.86      1864\n",
            "\n",
            "GradientBoostingClassifier Accuracy:  0.8589055793991416\n"
          ],
          "name": "stdout"
        }
      ]
    },
    {
      "cell_type": "code",
      "metadata": {
        "colab": {
          "base_uri": "https://localhost:8080/"
        },
        "id": "cE92U4o8Bwm8",
        "outputId": "6167c763-a93f-47e5-dfa0-d68faf497559"
      },
      "source": [
        "from sklearn.neighbors import KNeighborsClassifier\n",
        "import numpy as np\n",
        "from sklearn.metrics import classification_report\n",
        "from sklearn.metrics import accuracy_score\n",
        "\n",
        "knn = KNeighborsClassifier(5)\n",
        "knn.fit(x_train,y_train)\n",
        "knn_pred = knn.predict(x_valid)\n",
        "\n",
        "print(classification_report(y_valid,knn_pred))\n",
        "print(\"KNeighborsClassifier Accuracy: \",accuracy_score(y_valid, knn_pred, normalize=True, sample_weight=None))\n"
      ],
      "execution_count": 153,
      "outputs": [
        {
          "output_type": "stream",
          "text": [
            "              precision    recall  f1-score   support\n",
            "\n",
            "           0       0.82      0.69      0.75       932\n",
            "           1       0.73      0.85      0.79       932\n",
            "\n",
            "    accuracy                           0.77      1864\n",
            "   macro avg       0.78      0.77      0.77      1864\n",
            "weighted avg       0.78      0.77      0.77      1864\n",
            "\n",
            "KNeighborsClassifier Accuracy:  0.7719957081545065\n"
          ],
          "name": "stdout"
        }
      ]
    },
    {
      "cell_type": "code",
      "metadata": {
        "colab": {
          "base_uri": "https://localhost:8080/"
        },
        "id": "fBe9t7bGYQ3_",
        "outputId": "273abd55-ce6b-4f26-ddf6-ce82a768199f"
      },
      "source": [
        "from sklearn.ensemble import ExtraTreesClassifier\n",
        "import numpy as np\n",
        "from sklearn.metrics import classification_report\n",
        "from sklearn.metrics import accuracy_score\n",
        "\n",
        "etc = ExtraTreesClassifier(n_estimators=800)\n",
        "etc.fit(x_train,y_train)\n",
        "etc_pred = etc.predict(x_valid)\n",
        "\n",
        "print(classification_report(y_valid,etc_pred))\n",
        "print(\"ExtraTreesClassifier Accuracy: \",accuracy_score(y_valid, etc_pred, normalize=True, sample_weight=None))\n"
      ],
      "execution_count": 154,
      "outputs": [
        {
          "output_type": "stream",
          "text": [
            "              precision    recall  f1-score   support\n",
            "\n",
            "           0       0.83      0.87      0.85       932\n",
            "           1       0.87      0.82      0.84       932\n",
            "\n",
            "    accuracy                           0.85      1864\n",
            "   macro avg       0.85      0.85      0.85      1864\n",
            "weighted avg       0.85      0.85      0.85      1864\n",
            "\n",
            "ExtraTreesClassifier Accuracy:  0.8454935622317596\n"
          ],
          "name": "stdout"
        }
      ]
    },
    {
      "cell_type": "code",
      "metadata": {
        "colab": {
          "base_uri": "https://localhost:8080/"
        },
        "id": "mIdyODcfisrS",
        "outputId": "1fbb5b5a-52a7-4e4b-d3f3-e2a5bc47e791"
      },
      "source": [
        "!pip install catboost\n",
        "\n",
        "from catboost import CatBoostClassifier\n",
        "\n",
        "cbr = CatBoostClassifier(iterations=100,learning_rate=0.1,depth=2)\n",
        "\n",
        "cbr_pred = cbr.fit(x_train,y_train).predict(x_valid)\n",
        "\n",
        "print(classification_report(y_valid,cbr_pred))\n",
        "print(\"CatBoostClassifier Accuracy: \",accuracy_score(y_valid, cbr_pred, normalize=True, sample_weight=None))\n"
      ],
      "execution_count": 155,
      "outputs": [
        {
          "output_type": "stream",
          "text": [
            "Requirement already satisfied: catboost in /usr/local/lib/python3.7/dist-packages (0.25.1)\n",
            "Requirement already satisfied: matplotlib in /usr/local/lib/python3.7/dist-packages (from catboost) (3.2.2)\n",
            "Requirement already satisfied: six in /usr/local/lib/python3.7/dist-packages (from catboost) (1.15.0)\n",
            "Requirement already satisfied: pandas>=0.24.0 in /usr/local/lib/python3.7/dist-packages (from catboost) (1.1.5)\n",
            "Requirement already satisfied: numpy>=1.16.0 in /usr/local/lib/python3.7/dist-packages (from catboost) (1.19.5)\n",
            "Requirement already satisfied: graphviz in /usr/local/lib/python3.7/dist-packages (from catboost) (0.10.1)\n",
            "Requirement already satisfied: scipy in /usr/local/lib/python3.7/dist-packages (from catboost) (1.4.1)\n",
            "Requirement already satisfied: plotly in /usr/local/lib/python3.7/dist-packages (from catboost) (4.4.1)\n",
            "Requirement already satisfied: kiwisolver>=1.0.1 in /usr/local/lib/python3.7/dist-packages (from matplotlib->catboost) (1.3.1)\n",
            "Requirement already satisfied: cycler>=0.10 in /usr/local/lib/python3.7/dist-packages (from matplotlib->catboost) (0.10.0)\n",
            "Requirement already satisfied: python-dateutil>=2.1 in /usr/local/lib/python3.7/dist-packages (from matplotlib->catboost) (2.8.1)\n",
            "Requirement already satisfied: pyparsing!=2.0.4,!=2.1.2,!=2.1.6,>=2.0.1 in /usr/local/lib/python3.7/dist-packages (from matplotlib->catboost) (2.4.7)\n",
            "Requirement already satisfied: pytz>=2017.2 in /usr/local/lib/python3.7/dist-packages (from pandas>=0.24.0->catboost) (2018.9)\n",
            "Requirement already satisfied: retrying>=1.3.3 in /usr/local/lib/python3.7/dist-packages (from plotly->catboost) (1.3.3)\n",
            "0:\tlearn: 0.6750581\ttotal: 2.57ms\tremaining: 254ms\n",
            "1:\tlearn: 0.6589455\ttotal: 5.51ms\tremaining: 270ms\n",
            "2:\tlearn: 0.6430745\ttotal: 7.78ms\tremaining: 251ms\n",
            "3:\tlearn: 0.6309789\ttotal: 10.5ms\tremaining: 252ms\n",
            "4:\tlearn: 0.6198246\ttotal: 12.8ms\tremaining: 243ms\n",
            "5:\tlearn: 0.6048004\ttotal: 15.1ms\tremaining: 236ms\n",
            "6:\tlearn: 0.5918272\ttotal: 18.2ms\tremaining: 242ms\n",
            "7:\tlearn: 0.5806569\ttotal: 20.5ms\tremaining: 236ms\n",
            "8:\tlearn: 0.5703806\ttotal: 22.7ms\tremaining: 230ms\n",
            "9:\tlearn: 0.5614595\ttotal: 25.3ms\tremaining: 227ms\n",
            "10:\tlearn: 0.5546022\ttotal: 27.6ms\tremaining: 224ms\n",
            "11:\tlearn: 0.5468158\ttotal: 29.9ms\tremaining: 219ms\n",
            "12:\tlearn: 0.5390775\ttotal: 32.2ms\tremaining: 216ms\n",
            "13:\tlearn: 0.5324643\ttotal: 35.4ms\tremaining: 218ms\n",
            "14:\tlearn: 0.5258927\ttotal: 38.1ms\tremaining: 216ms\n",
            "15:\tlearn: 0.5197253\ttotal: 40.5ms\tremaining: 212ms\n",
            "16:\tlearn: 0.5147382\ttotal: 42.8ms\tremaining: 209ms\n",
            "17:\tlearn: 0.5094574\ttotal: 45ms\tremaining: 205ms\n",
            "18:\tlearn: 0.5030577\ttotal: 47.3ms\tremaining: 202ms\n",
            "19:\tlearn: 0.4969173\ttotal: 49.5ms\tremaining: 198ms\n",
            "20:\tlearn: 0.4923537\ttotal: 51.8ms\tremaining: 195ms\n",
            "21:\tlearn: 0.4881879\ttotal: 54.1ms\tremaining: 192ms\n",
            "22:\tlearn: 0.4837684\ttotal: 56.4ms\tremaining: 189ms\n",
            "23:\tlearn: 0.4786530\ttotal: 58.7ms\tremaining: 186ms\n",
            "24:\tlearn: 0.4708889\ttotal: 61.1ms\tremaining: 183ms\n",
            "25:\tlearn: 0.4671864\ttotal: 63.4ms\tremaining: 180ms\n",
            "26:\tlearn: 0.4608292\ttotal: 65.7ms\tremaining: 178ms\n",
            "27:\tlearn: 0.4573979\ttotal: 68ms\tremaining: 175ms\n",
            "28:\tlearn: 0.4540078\ttotal: 70.4ms\tremaining: 172ms\n",
            "29:\tlearn: 0.4506677\ttotal: 72.8ms\tremaining: 170ms\n",
            "30:\tlearn: 0.4472544\ttotal: 75.4ms\tremaining: 168ms\n",
            "31:\tlearn: 0.4422916\ttotal: 78ms\tremaining: 166ms\n",
            "32:\tlearn: 0.4392653\ttotal: 80.7ms\tremaining: 164ms\n",
            "33:\tlearn: 0.4368652\ttotal: 83.1ms\tremaining: 161ms\n",
            "34:\tlearn: 0.4331365\ttotal: 85.6ms\tremaining: 159ms\n",
            "35:\tlearn: 0.4305270\ttotal: 88.3ms\tremaining: 157ms\n",
            "36:\tlearn: 0.4274305\ttotal: 90.6ms\tremaining: 154ms\n",
            "37:\tlearn: 0.4250481\ttotal: 93ms\tremaining: 152ms\n",
            "38:\tlearn: 0.4221571\ttotal: 95.4ms\tremaining: 149ms\n",
            "39:\tlearn: 0.4181558\ttotal: 97.8ms\tremaining: 147ms\n",
            "40:\tlearn: 0.4160922\ttotal: 100ms\tremaining: 144ms\n",
            "41:\tlearn: 0.4146182\ttotal: 103ms\tremaining: 142ms\n",
            "42:\tlearn: 0.4133839\ttotal: 105ms\tremaining: 139ms\n",
            "43:\tlearn: 0.4119634\ttotal: 108ms\tremaining: 137ms\n",
            "44:\tlearn: 0.4095906\ttotal: 110ms\tremaining: 134ms\n",
            "45:\tlearn: 0.4076373\ttotal: 112ms\tremaining: 132ms\n",
            "46:\tlearn: 0.4040782\ttotal: 115ms\tremaining: 130ms\n",
            "47:\tlearn: 0.4022427\ttotal: 117ms\tremaining: 127ms\n",
            "48:\tlearn: 0.4008368\ttotal: 120ms\tremaining: 125ms\n",
            "49:\tlearn: 0.3991951\ttotal: 122ms\tremaining: 122ms\n",
            "50:\tlearn: 0.3976783\ttotal: 125ms\tremaining: 120ms\n",
            "51:\tlearn: 0.3949690\ttotal: 127ms\tremaining: 117ms\n",
            "52:\tlearn: 0.3926140\ttotal: 131ms\tremaining: 116ms\n",
            "53:\tlearn: 0.3918072\ttotal: 133ms\tremaining: 114ms\n",
            "54:\tlearn: 0.3906909\ttotal: 136ms\tremaining: 111ms\n",
            "55:\tlearn: 0.3895207\ttotal: 138ms\tremaining: 108ms\n",
            "56:\tlearn: 0.3884632\ttotal: 140ms\tremaining: 106ms\n",
            "57:\tlearn: 0.3871691\ttotal: 143ms\tremaining: 103ms\n",
            "58:\tlearn: 0.3856626\ttotal: 145ms\tremaining: 101ms\n",
            "59:\tlearn: 0.3837976\ttotal: 147ms\tremaining: 98.2ms\n",
            "60:\tlearn: 0.3829617\ttotal: 150ms\tremaining: 95.6ms\n",
            "61:\tlearn: 0.3818183\ttotal: 152ms\tremaining: 93.1ms\n",
            "62:\tlearn: 0.3807233\ttotal: 154ms\tremaining: 90.5ms\n",
            "63:\tlearn: 0.3788858\ttotal: 157ms\tremaining: 88.1ms\n",
            "64:\tlearn: 0.3775089\ttotal: 159ms\tremaining: 85.6ms\n",
            "65:\tlearn: 0.3754406\ttotal: 161ms\tremaining: 83.2ms\n",
            "66:\tlearn: 0.3722339\ttotal: 164ms\tremaining: 80.9ms\n",
            "67:\tlearn: 0.3716187\ttotal: 167ms\tremaining: 78.4ms\n",
            "68:\tlearn: 0.3708399\ttotal: 169ms\tremaining: 76.1ms\n",
            "69:\tlearn: 0.3691555\ttotal: 172ms\tremaining: 73.6ms\n",
            "70:\tlearn: 0.3683867\ttotal: 174ms\tremaining: 71.3ms\n",
            "71:\tlearn: 0.3679936\ttotal: 177ms\tremaining: 68.9ms\n",
            "72:\tlearn: 0.3674687\ttotal: 180ms\tremaining: 66.4ms\n",
            "73:\tlearn: 0.3661380\ttotal: 182ms\tremaining: 64ms\n",
            "74:\tlearn: 0.3655082\ttotal: 185ms\tremaining: 61.5ms\n",
            "75:\tlearn: 0.3648707\ttotal: 187ms\tremaining: 59ms\n",
            "76:\tlearn: 0.3625784\ttotal: 191ms\tremaining: 56.9ms\n",
            "77:\tlearn: 0.3619040\ttotal: 196ms\tremaining: 55.2ms\n",
            "78:\tlearn: 0.3608639\ttotal: 198ms\tremaining: 52.6ms\n",
            "79:\tlearn: 0.3588636\ttotal: 200ms\tremaining: 50.1ms\n",
            "80:\tlearn: 0.3578920\ttotal: 203ms\tremaining: 47.6ms\n",
            "81:\tlearn: 0.3560843\ttotal: 205ms\tremaining: 45ms\n",
            "82:\tlearn: 0.3552675\ttotal: 208ms\tremaining: 42.5ms\n",
            "83:\tlearn: 0.3545445\ttotal: 210ms\tremaining: 40ms\n",
            "84:\tlearn: 0.3540355\ttotal: 212ms\tremaining: 37.5ms\n",
            "85:\tlearn: 0.3527314\ttotal: 215ms\tremaining: 35ms\n",
            "86:\tlearn: 0.3515172\ttotal: 217ms\tremaining: 32.4ms\n",
            "87:\tlearn: 0.3505770\ttotal: 220ms\tremaining: 29.9ms\n",
            "88:\tlearn: 0.3500680\ttotal: 222ms\tremaining: 27.4ms\n",
            "89:\tlearn: 0.3490779\ttotal: 224ms\tremaining: 24.9ms\n",
            "90:\tlearn: 0.3485521\ttotal: 229ms\tremaining: 22.7ms\n",
            "91:\tlearn: 0.3475942\ttotal: 234ms\tremaining: 20.3ms\n",
            "92:\tlearn: 0.3472064\ttotal: 239ms\tremaining: 18ms\n",
            "93:\tlearn: 0.3456254\ttotal: 242ms\tremaining: 15.4ms\n",
            "94:\tlearn: 0.3450928\ttotal: 244ms\tremaining: 12.9ms\n",
            "95:\tlearn: 0.3446543\ttotal: 247ms\tremaining: 10.3ms\n",
            "96:\tlearn: 0.3431134\ttotal: 249ms\tremaining: 7.7ms\n",
            "97:\tlearn: 0.3425768\ttotal: 252ms\tremaining: 5.13ms\n",
            "98:\tlearn: 0.3418387\ttotal: 254ms\tremaining: 2.56ms\n",
            "99:\tlearn: 0.3415143\ttotal: 256ms\tremaining: 0us\n",
            "              precision    recall  f1-score   support\n",
            "\n",
            "           0       0.84      0.88      0.86       932\n",
            "           1       0.88      0.83      0.85       932\n",
            "\n",
            "    accuracy                           0.86      1864\n",
            "   macro avg       0.86      0.86      0.86      1864\n",
            "weighted avg       0.86      0.86      0.86      1864\n",
            "\n",
            "CatBoostClassifier Accuracy:  0.8562231759656652\n"
          ],
          "name": "stdout"
        }
      ]
    },
    {
      "cell_type": "code",
      "metadata": {
        "colab": {
          "base_uri": "https://localhost:8080/"
        },
        "id": "oWdvcgw3jxC1",
        "outputId": "50cb69af-2d36-441e-d537-abe6773ca233"
      },
      "source": [
        "from xgboost.sklearn import XGBClassifier\n",
        "\n",
        "xgb = XGBClassifier(random_state = 0,n_estimators=500,learning_rate=0.04)\n",
        "\n",
        "xgb.fit(x_train,y_train)\n",
        "\n",
        "y_pred3 = xgb.predict(x_valid)\n",
        "\n",
        "from sklearn.metrics import accuracy_score\n",
        "\n",
        "print(\"XGB Accuracy: \",100 * accuracy_score(y_valid, y_pred3, normalize=True, sample_weight=None))"
      ],
      "execution_count": 156,
      "outputs": [
        {
          "output_type": "stream",
          "text": [
            "XGB Accuracy:  86.85622317596567\n"
          ],
          "name": "stdout"
        }
      ]
    },
    {
      "cell_type": "code",
      "metadata": {
        "colab": {
          "base_uri": "https://localhost:8080/"
        },
        "id": "nDLG6QYANU0k",
        "outputId": "734f60a8-1e9f-43e9-a07a-a83ce0ec6530"
      },
      "source": [
        "y_pred3"
      ],
      "execution_count": 157,
      "outputs": [
        {
          "output_type": "execute_result",
          "data": {
            "text/plain": [
              "array([1, 1, 1, ..., 0, 0, 0])"
            ]
          },
          "metadata": {
            "tags": []
          },
          "execution_count": 157
        }
      ]
    },
    {
      "cell_type": "code",
      "metadata": {
        "colab": {
          "base_uri": "https://localhost:8080/"
        },
        "id": "MlOx9leEkSfr",
        "outputId": "1359d107-47c6-4b11-bdb3-04127e87876d"
      },
      "source": [
        "from lightgbm import LGBMClassifier\n",
        "\n",
        "lgbm = LGBMClassifier(random_state=5)\n",
        "\n",
        "y_pred11 = lgbm.fit(x_train,y_train).predict(x_valid)\n",
        "\n",
        "print(\"Lightgbm: \",100 * accuracy_score(y_valid, y_pred11, normalize=True, sample_weight=None))"
      ],
      "execution_count": 158,
      "outputs": [
        {
          "output_type": "stream",
          "text": [
            "Lightgbm:  85.1931330472103\n"
          ],
          "name": "stdout"
        }
      ]
    },
    {
      "cell_type": "code",
      "metadata": {
        "colab": {
          "base_uri": "https://localhost:8080/"
        },
        "id": "nk2S8HGiSoDJ",
        "outputId": "2bc256ac-6dd3-4c52-dad2-56d5c5dcae77"
      },
      "source": [
        "xgb.fit(train_x,train_y)"
      ],
      "execution_count": 159,
      "outputs": [
        {
          "output_type": "execute_result",
          "data": {
            "text/plain": [
              "XGBClassifier(base_score=0.5, booster='gbtree', colsample_bylevel=1,\n",
              "              colsample_bynode=1, colsample_bytree=1, gamma=0,\n",
              "              learning_rate=0.04, max_delta_step=0, max_depth=3,\n",
              "              min_child_weight=1, missing=None, n_estimators=500, n_jobs=1,\n",
              "              nthread=None, objective='binary:logistic', random_state=0,\n",
              "              reg_alpha=0, reg_lambda=1, scale_pos_weight=1, seed=None,\n",
              "              silent=None, subsample=1, verbosity=1)"
            ]
          },
          "metadata": {
            "tags": []
          },
          "execution_count": 159
        }
      ]
    },
    {
      "cell_type": "code",
      "metadata": {
        "id": "ErvYdedHTDSj"
      },
      "source": [
        "test_x = np.array(test_x)\n",
        "y_pred = xgb.predict(test_x)"
      ],
      "execution_count": 161,
      "outputs": []
    },
    {
      "cell_type": "code",
      "metadata": {
        "colab": {
          "base_uri": "https://localhost:8080/"
        },
        "id": "VVl_cGfzMRY_",
        "outputId": "a1bb4373-ecc6-4514-d187-1dea1ef18f38"
      },
      "source": [
        "y_pred\n"
      ],
      "execution_count": 162,
      "outputs": [
        {
          "output_type": "execute_result",
          "data": {
            "text/plain": [
              "array([0, 0, 0, 0, 0, 0, 0, 1, 1, 0, 0, 0, 0, 0, 0, 1, 0, 0, 0, 1, 0, 0,\n",
              "       1, 0, 0, 1, 0, 0, 0, 0, 1, 0, 0, 0, 0, 0, 0, 1, 1, 0, 0, 1, 0, 0,\n",
              "       0, 1, 1, 0, 1, 0, 1, 0, 0, 0, 0, 0, 0, 0, 0, 0, 0, 0, 0, 0, 0, 0,\n",
              "       1, 0, 1, 0, 0, 0, 0, 0, 0, 1, 0, 0, 1, 0, 1, 0, 1, 0, 0, 0, 0, 0,\n",
              "       0, 0, 0, 0, 1, 0, 0, 0, 0, 1, 0, 1, 0, 0, 0, 0, 0, 1, 0, 0, 0, 0,\n",
              "       0, 0, 0, 0, 0, 0, 0, 0, 0, 0, 0, 0, 0, 0, 0, 0, 0, 0, 0, 0, 0, 0,\n",
              "       1, 0, 1, 0, 0, 0, 0, 0, 0, 1, 0, 1, 0, 0, 1, 0, 0, 0, 0, 0, 0, 0,\n",
              "       0, 0, 0, 0, 0, 0, 1, 0, 1, 0, 0, 0, 0, 0, 0, 0, 0, 0, 1, 0, 0, 0,\n",
              "       0, 0, 0, 0, 0, 0, 0, 0, 0, 0, 0, 0, 0, 0, 0, 1, 0, 0, 0, 0, 0, 0,\n",
              "       1, 0, 1, 0, 0, 1, 0, 0, 0, 1, 0, 0, 0, 0, 0, 0, 0, 0, 0, 0, 0, 0,\n",
              "       0, 0, 0, 0, 1, 0, 1, 0, 0, 0, 0, 0, 0, 0, 0, 1, 0, 1, 1, 0, 0, 1,\n",
              "       0, 0, 1, 0, 0, 0, 0, 1, 1, 0, 1, 0, 0, 0, 1, 0, 0, 0, 0, 0, 0, 0,\n",
              "       0, 1, 0, 0, 1, 0, 1, 1, 1, 1, 0, 1, 0, 0, 0, 0, 0, 0, 0, 1, 0, 0,\n",
              "       1, 1, 0, 1, 0, 0, 0, 0, 0, 0, 1, 0, 0, 0, 0, 0, 0, 0, 0, 0, 0, 0,\n",
              "       0, 0, 0, 0, 0, 0, 0, 1, 0, 0, 0, 0, 0, 0, 0, 0, 0, 1, 1, 1, 1, 0,\n",
              "       0, 0, 0, 0, 1, 0, 0, 1, 0, 1, 0, 0, 0, 0, 0, 0, 0, 0, 0, 0, 0, 0,\n",
              "       1, 0, 0, 1, 0, 1, 1, 0, 1, 1, 0, 0, 1, 1, 1, 0, 0, 0, 1, 1, 0, 1,\n",
              "       0, 1, 0, 0, 0, 0, 0, 1, 0, 1, 1, 1, 0, 0, 0, 0, 0, 0, 0, 0, 0, 0,\n",
              "       0, 0, 0, 0, 0, 1, 0, 0, 0, 0, 0, 0, 0, 0, 0, 0, 0, 1, 1, 1, 0, 0,\n",
              "       0, 1, 1, 0, 1, 1, 0, 1, 0, 0, 0, 0, 0, 0, 1, 1, 0, 1, 1, 0, 0, 0,\n",
              "       0, 0, 0, 0, 0, 1, 1, 0, 0, 0, 0, 0, 1, 0, 0, 0, 0, 1, 0, 0, 0, 0,\n",
              "       0, 0, 0, 1, 0, 0, 0, 0, 1, 0, 0, 0, 1, 0, 1, 0, 0, 0, 0, 0, 0, 0,\n",
              "       1, 1, 1, 0, 0, 0, 0, 0, 0, 0, 0, 0, 1, 1, 0, 0, 1, 0, 0, 0, 1, 1,\n",
              "       0, 0, 0, 0, 0, 0, 0, 0, 1, 0, 0, 0, 0, 1, 0, 0, 0, 1, 0, 1, 1, 0,\n",
              "       0, 0, 0, 0, 0, 0, 0, 1, 1, 0, 1, 1, 0, 1, 0, 1, 1, 0, 0, 0, 1, 0,\n",
              "       0, 0, 0, 0, 0, 0, 0, 0, 0, 0, 0, 0, 0, 0, 0, 0, 0, 0, 0, 0, 0, 0,\n",
              "       1, 0, 1, 0, 0, 0, 0, 1, 0, 0, 0, 0, 0, 0, 0, 1, 0, 0, 1, 0, 1, 0,\n",
              "       0, 1, 0, 0, 0, 1, 1, 0, 0, 0, 1, 0, 1, 0, 0, 0, 0, 0, 0, 0, 0, 0,\n",
              "       0, 1, 1, 1, 0, 0, 0, 0, 1, 0, 0, 0, 0, 1, 0, 1, 0, 0, 1, 0, 0, 0,\n",
              "       0, 0, 0, 1, 1, 0, 0, 0, 0, 0, 0, 0, 0, 0, 0, 1, 0, 0, 0, 0, 0, 0,\n",
              "       1, 1, 0, 0, 0, 1, 0, 0, 0, 0, 0, 0, 0, 0, 1, 1, 0, 0, 0, 0, 0, 0,\n",
              "       1, 0, 0, 0, 0, 0, 1, 0, 0, 0, 0, 0, 0, 0, 0, 0, 1, 0, 0, 1, 1, 1,\n",
              "       0])"
            ]
          },
          "metadata": {
            "tags": []
          },
          "execution_count": 162
        }
      ]
    },
    {
      "cell_type": "code",
      "metadata": {
        "id": "-2jyZXG1ckPz"
      },
      "source": [
        "preds = []\n",
        "for i in y_pred:\n",
        "  if i==1:\n",
        "    preds.append('Yes')\n",
        "  else:\n",
        "    preds.append('No')\n"
      ],
      "execution_count": 163,
      "outputs": []
    },
    {
      "cell_type": "code",
      "metadata": {
        "colab": {
          "base_uri": "https://localhost:8080/",
          "height": 416
        },
        "id": "tG0SOHUsdM6n",
        "outputId": "82c8ce1b-0847-4e10-9584-13dc31065bf2"
      },
      "source": [
        "y = pd.DataFrame()\n",
        "x = pd.read_csv('test.csv')\n",
        "y['ID'] = x['ID']\n",
        "y['CustomerAttrition'] = preds\n",
        "y"
      ],
      "execution_count": 164,
      "outputs": [
        {
          "output_type": "execute_result",
          "data": {
            "text/html": [
              "<div>\n",
              "<style scoped>\n",
              "    .dataframe tbody tr th:only-of-type {\n",
              "        vertical-align: middle;\n",
              "    }\n",
              "\n",
              "    .dataframe tbody tr th {\n",
              "        vertical-align: top;\n",
              "    }\n",
              "\n",
              "    .dataframe thead th {\n",
              "        text-align: right;\n",
              "    }\n",
              "</style>\n",
              "<table border=\"1\" class=\"dataframe\">\n",
              "  <thead>\n",
              "    <tr style=\"text-align: right;\">\n",
              "      <th></th>\n",
              "      <th>ID</th>\n",
              "      <th>CustomerAttrition</th>\n",
              "    </tr>\n",
              "  </thead>\n",
              "  <tbody>\n",
              "    <tr>\n",
              "      <th>0</th>\n",
              "      <td>WMORTPCG3HTIPEFSGUFY</td>\n",
              "      <td>No</td>\n",
              "    </tr>\n",
              "    <tr>\n",
              "      <th>1</th>\n",
              "      <td>GBLPEA16C3KGBO57KEFO</td>\n",
              "      <td>No</td>\n",
              "    </tr>\n",
              "    <tr>\n",
              "      <th>2</th>\n",
              "      <td>IDCQS0CO5P29AMKY3LO1</td>\n",
              "      <td>No</td>\n",
              "    </tr>\n",
              "    <tr>\n",
              "      <th>3</th>\n",
              "      <td>1IY29SDITYU6IFZ4KJB0</td>\n",
              "      <td>No</td>\n",
              "    </tr>\n",
              "    <tr>\n",
              "      <th>4</th>\n",
              "      <td>T5XMW5B0YPCONH30WJD2</td>\n",
              "      <td>No</td>\n",
              "    </tr>\n",
              "    <tr>\n",
              "      <th>...</th>\n",
              "      <td>...</td>\n",
              "      <td>...</td>\n",
              "    </tr>\n",
              "    <tr>\n",
              "      <th>700</th>\n",
              "      <td>8M7JJ5JBQUIA0ORLJ1UU</td>\n",
              "      <td>No</td>\n",
              "    </tr>\n",
              "    <tr>\n",
              "      <th>701</th>\n",
              "      <td>WS1T1FLY87G9A1UNKST4</td>\n",
              "      <td>Yes</td>\n",
              "    </tr>\n",
              "    <tr>\n",
              "      <th>702</th>\n",
              "      <td>0XG96FS1KXZSULPSGA1X</td>\n",
              "      <td>Yes</td>\n",
              "    </tr>\n",
              "    <tr>\n",
              "      <th>703</th>\n",
              "      <td>YR858QHNQMCDBCT9JRP6</td>\n",
              "      <td>Yes</td>\n",
              "    </tr>\n",
              "    <tr>\n",
              "      <th>704</th>\n",
              "      <td>IMKOIG7YFZ3KHC2OMFMH</td>\n",
              "      <td>No</td>\n",
              "    </tr>\n",
              "  </tbody>\n",
              "</table>\n",
              "<p>705 rows × 2 columns</p>\n",
              "</div>"
            ],
            "text/plain": [
              "                       ID CustomerAttrition\n",
              "0    WMORTPCG3HTIPEFSGUFY                No\n",
              "1    GBLPEA16C3KGBO57KEFO                No\n",
              "2    IDCQS0CO5P29AMKY3LO1                No\n",
              "3    1IY29SDITYU6IFZ4KJB0                No\n",
              "4    T5XMW5B0YPCONH30WJD2                No\n",
              "..                    ...               ...\n",
              "700  8M7JJ5JBQUIA0ORLJ1UU                No\n",
              "701  WS1T1FLY87G9A1UNKST4               Yes\n",
              "702  0XG96FS1KXZSULPSGA1X               Yes\n",
              "703  YR858QHNQMCDBCT9JRP6               Yes\n",
              "704  IMKOIG7YFZ3KHC2OMFMH                No\n",
              "\n",
              "[705 rows x 2 columns]"
            ]
          },
          "metadata": {
            "tags": []
          },
          "execution_count": 164
        }
      ]
    },
    {
      "cell_type": "code",
      "metadata": {
        "id": "aZZjlxUudjQp"
      },
      "source": [
        "y.to_csv('/content/XGB.csv')"
      ],
      "execution_count": 165,
      "outputs": []
    },
    {
      "cell_type": "code",
      "metadata": {
        "id": "30M3-QeadkAN"
      },
      "source": [
        "x.shape"
      ],
      "execution_count": null,
      "outputs": []
    },
    {
      "cell_type": "code",
      "metadata": {
        "id": "zXTQXKBVeuS-"
      },
      "source": [
        ""
      ],
      "execution_count": null,
      "outputs": []
    }
  ]
}